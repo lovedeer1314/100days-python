{
 "cells": [
  {
   "cell_type": "code",
   "execution_count": 2,
   "metadata": {
    "collapsed": true
   },
   "outputs": [
    {
     "name": "stdout",
     "output_type": "stream",
     "text": [
      "your name:  王延军 and your name's length is: 3\n"
     ]
    }
   ],
   "source": [
    "name = input(\"what's your name?\")\n",
    "print(\"your name: \", name, \"and your name's length is:\", len(name))"
   ]
  },
  {
   "cell_type": "markdown",
   "source": [
    "# 一些jupyter notebook的快捷键\n",
    "`esc 进入命令模式`\n",
    "1. J上K下\n",
    "2. 跳转开头HOME，所有开头ctrl+HOME\n",
    "3. alt+shift+b : create a new line"
   ],
   "metadata": {
    "collapsed": false
   }
  },
  {
   "cell_type": "code",
   "execution_count": 2,
   "outputs": [
    {
     "name": "stdout",
     "output_type": "stream",
     "text": [
      "a:  10 b:  5\n"
     ]
    }
   ],
   "source": [
    "# Switch 交换值\n",
    "a = 5\n",
    "b = 10\n",
    "a, b = b, a\n",
    "print(\"a: \", a, \"b: \", b)"
   ],
   "metadata": {
    "collapsed": false
   }
  },
  {
   "cell_type": "markdown",
   "source": [
    "# git操作\n",
    "commit快捷键：ctrl+k\n",
    "push快捷键：ctrl+shift+k"
   ],
   "metadata": {
    "collapsed": false
   }
  }
 ],
 "metadata": {
  "kernelspec": {
   "display_name": "Python 3",
   "language": "python",
   "name": "python3"
  },
  "language_info": {
   "codemirror_mode": {
    "name": "ipython",
    "version": 2
   },
   "file_extension": ".py",
   "mimetype": "text/x-python",
   "name": "python",
   "nbconvert_exporter": "python",
   "pygments_lexer": "ipython2",
   "version": "2.7.6"
  }
 },
 "nbformat": 4,
 "nbformat_minor": 0
}
