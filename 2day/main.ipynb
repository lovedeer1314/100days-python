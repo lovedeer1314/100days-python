{
 "cells": [
  {
   "cell_type": "markdown",
   "source": [
    "- Data type\n",
    "- number\n",
    "- operation\n",
    "- type conversion\n",
    "- f-string"
   ],
   "metadata": {
    "collapsed": false
   }
  },
  {
   "cell_type": "markdown",
   "source": [
    "# DATA TYPE\n",
    "\n",
    "## 1.string\n",
    "1. `len`\n",
    "2. `\" \"[]`   subscript:`0-end`\n",
    "\n",
    "## 2.Integer\n",
    "`122_345_678`=122345678\n",
    "\n",
    "## 3.float\n",
    "3.1496\n",
    "\n",
    "## 4.Boolean\n",
    "`true`\n",
    "`false`"
   ],
   "metadata": {
    "collapsed": false
   }
  },
  {
   "cell_type": "markdown",
   "source": [
    "# type conversion\n",
    "确定数据的类型：`type()`\n",
    "\n",
    "1. `str()`\n",
    "2. `float()` `int()`\n"
   ],
   "metadata": {
    "collapsed": false
   }
  },
  {
   "cell_type": "markdown",
   "source": [
    "# Exercise1:\n",
    "input was 35, then the output is 3 + 5 = 8"
   ],
   "metadata": {
    "collapsed": false
   }
  },
  {
   "cell_type": "code",
   "execution_count": 11,
   "outputs": [
    {
     "name": "stdout",
     "output_type": "stream",
     "text": [
      "SUM is  6\n"
     ]
    }
   ],
   "source": [
    "input_num = input(\"input number:\")\n",
    "s = str(input_num)\n",
    "SUM = 0\n",
    "for i in s:\n",
    "    SUM += int(i)\n",
    "print(\"SUM is \", SUM)"
   ],
   "metadata": {
    "collapsed": false
   }
  },
  {
   "cell_type": "markdown",
   "source": [
    "# 四舍五入\n",
    "/ 普通除法\n",
    "// 取余整除\n",
    "round()"
   ],
   "metadata": {
    "collapsed": false
   }
  },
  {
   "cell_type": "markdown",
   "source": [
    "# f-string\n",
    "```python\n",
    "f\"{var}\"\n",
    "```"
   ],
   "metadata": {
    "collapsed": false
   }
  },
  {
   "cell_type": "code",
   "execution_count": 13,
   "outputs": [
    {
     "name": "stdout",
     "output_type": "stream",
     "text": [
      "your score is 10,your height is 100\n"
     ]
    }
   ],
   "source": [
    "score = 10\n",
    "height = 100\n",
    "s = f\"your score is {score},your height is {height}\"\n",
    "print(s)"
   ],
   "metadata": {
    "collapsed": false
   }
  },
  {
   "cell_type": "markdown",
   "source": [
    "# Exercise2:\n",
    "suppose you live to 90 years old.\n",
    "\n",
    "please calculate input your age,and output the left time\n",
    "\n",
    "\n",
    "> You have x days,y weeks,and z months left"
   ],
   "metadata": {
    "collapsed": false
   }
  },
  {
   "cell_type": "code",
   "execution_count": 17,
   "outputs": [
    {
     "name": "stdout",
     "output_type": "stream",
     "text": [
      "you have 12410 days,1768 weeks,and 408 months left\n"
     ]
    }
   ],
   "source": [
    "# 假设一年365天，12个月，52周\n",
    "your_age = int(input(\"how old are you?\"))\n",
    "left_year = 90 - your_age\n",
    "left_month = left_year * 12\n",
    "left_week = left_year * 52\n",
    "left_day = left_year * 365\n",
    "s = f\"you have {left_day} days,{left_week} weeks,and {left_month} months left\"\n",
    "print(s)"
   ],
   "metadata": {
    "collapsed": false
   }
  },
  {
   "cell_type": "markdown",
   "source": [
    "# tip Calculator"
   ],
   "metadata": {
    "collapsed": false
   }
  },
  {
   "cell_type": "code",
   "execution_count": 18,
   "outputs": [],
   "source": [
    "# string\n",
    "hello = \"Welcome to the tip calculator.\"\n",
    "ask_bill = \"what was the total bill? $\"\n",
    "ask_people = \"How many people to split the bill?\"\n",
    "ask_percent_tip = \"What percentage tip would you like to give?\"\n",
    "out_pay = \"Each person should pay: $\""
   ],
   "metadata": {
    "collapsed": false
   }
  },
  {
   "cell_type": "code",
   "execution_count": 19,
   "outputs": [
    {
     "name": "stdout",
     "output_type": "stream",
     "text": [
      "Welcome to the tip calculator.\n"
     ]
    }
   ],
   "source": [
    "print(hello)\n",
    "bill = float(input(ask_bill))  # 注意input都是字符串"
   ],
   "metadata": {
    "collapsed": false
   }
  },
  {
   "cell_type": "code",
   "execution_count": 20,
   "outputs": [],
   "source": [
    "num_people = int(input(ask_people))"
   ],
   "metadata": {
    "collapsed": false
   }
  },
  {
   "cell_type": "code",
   "execution_count": 24,
   "outputs": [],
   "source": [
    "tip_percent = float(input(ask_percent_tip)) / 100"
   ],
   "metadata": {
    "collapsed": false
   }
  },
  {
   "cell_type": "code",
   "execution_count": 25,
   "outputs": [
    {
     "name": "stdout",
     "output_type": "stream",
     "text": [
      "Each person should pay: $19.9296\n"
     ]
    }
   ],
   "source": [
    "result = ((bill * tip_percent) + bill) / num_people\n",
    "s = f\"{out_pay}{result}\"\n",
    "print(s)"
   ],
   "metadata": {
    "collapsed": false
   }
  }
 ],
 "metadata": {
  "kernelspec": {
   "display_name": "Python 3",
   "language": "python",
   "name": "python3"
  },
  "language_info": {
   "codemirror_mode": {
    "name": "ipython",
    "version": 2
   },
   "file_extension": ".py",
   "mimetype": "text/x-python",
   "name": "python",
   "nbconvert_exporter": "python",
   "pygments_lexer": "ipython2",
   "version": "2.7.6"
  }
 },
 "nbformat": 4,
 "nbformat_minor": 0
}
