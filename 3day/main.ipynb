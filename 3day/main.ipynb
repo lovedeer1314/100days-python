{
 "cells": [
  {
   "cell_type": "markdown",
   "source": [
    "# if / elif /else\n",
    "```python3\n",
    "if statement:\n",
    "    xxxx\n",
    "else:\n",
    "    xxxx\n",
    "```\n",
    "\n",
    "modular `%`"
   ],
   "metadata": {
    "collapsed": false
   }
  },
  {
   "cell_type": "code",
   "execution_count": 3,
   "outputs": [
    {
     "name": "stdout",
     "output_type": "stream",
     "text": [
      "This is an even number\n",
      "\n"
     ]
    }
   ],
   "source": [
    "# judge odd or even\n",
    "num = int(input(\"please enter positive integer number\\n\"))\n",
    "flag = num % 2\n",
    "if flag == 1:\n",
    "    print(\"This is an odd number\\n\")\n",
    "else:\n",
    "    print(\"This is an even number\\n\")"
   ],
   "metadata": {
    "collapsed": false
   }
  },
  {
   "cell_type": "markdown",
   "source": [
    "# leap year\n",
    "on every year that is evenly divisible by 4\n",
    "    **except** every year that is evenly divisible by 100\n",
    "        **unless** the year is also evenly divisible by 400"
   ],
   "metadata": {
    "collapsed": false
   }
  },
  {
   "cell_type": "code",
   "execution_count": 5,
   "outputs": [
    {
     "name": "stdout",
     "output_type": "stream",
     "text": [
      "NO LEAP YEAR!\n",
      "\n"
     ]
    }
   ],
   "source": [
    "year = int(input(\"input year\\n\"))\n",
    "if year % 2 == 0:\n",
    "    if year % 100 == 0:\n",
    "        if year % 400 == 0:\n",
    "            print(\"LEAP YEAR!\\n\")\n",
    "        else:\n",
    "            print(\"NO LEAP YEAR!\\n\")\n",
    "    else:\n",
    "        print(\"NO LEAP YEAR!\\n\")\n",
    "\n",
    "else:\n",
    "    print(\"NO LEAP YEAR!\\n\")"
   ],
   "metadata": {
    "collapsed": false
   }
  },
  {
   "cell_type": "code",
   "execution_count": 8,
   "outputs": [],
   "source": [
    "def print_bill(bill):\n",
    "    print(f\"Your final bill is: ${bill}\")"
   ],
   "metadata": {
    "collapsed": false
   }
  },
  {
   "cell_type": "markdown",
   "source": [
    "# Pizza order program\n"
   ],
   "metadata": {
    "collapsed": false
   }
  },
  {
   "cell_type": "code",
   "execution_count": 9,
   "outputs": [
    {
     "name": "stdout",
     "output_type": "stream",
     "text": [
      "Welcome to python pizza deliveries!\n",
      "\n",
      "Your final bill is: $16\n"
     ]
    }
   ],
   "source": [
    "print(\"Welcome to python pizza deliveries!\\n\")\n",
    "size = input(\"What size pizza do you want? S,M or L?\")\n",
    "extra_cheese = input(\"Do you want extra cheese? Y or N\")\n",
    "\n",
    "if size == \"S\":\n",
    "    bill = 15\n",
    "    if extra_cheese == \"Y\":\n",
    "        bill += 1\n",
    "        print_bill(bill)\n",
    "    else:\n",
    "        print_bill(bill)\n",
    "elif size == \"M\":\n",
    "    bill = 20\n",
    "    if extra_cheese == \"Y\":\n",
    "        bill += 1\n",
    "        print_bill(bill)\n",
    "    else:\n",
    "        print_bill(bill)\n",
    "elif size == \"L\":\n",
    "    bill = 25\n",
    "    if extra_cheese == \"Y\":\n",
    "        bill += 1\n",
    "        print_bill(bill)\n",
    "    else:\n",
    "        print_bill(bill)\n"
   ],
   "metadata": {
    "collapsed": false
   }
  },
  {
   "cell_type": "markdown",
   "source": [
    "# logical operate"
   ],
   "metadata": {
    "collapsed": false
   }
  },
  {
   "cell_type": "code",
   "execution_count": 17,
   "outputs": [
    {
     "name": "stdout",
     "output_type": "stream",
     "text": [
      "t occurs 1 times\n",
      "\n",
      "r occurs 1 times\n",
      "\n",
      "u occurs 1 times\n",
      "\n",
      "e occurs 1 times\n",
      "\n",
      "Total 4\n",
      "l occurs 0 times\n",
      "\n",
      "o occurs 0 times\n",
      "\n",
      "v occurs 0 times\n",
      "\n",
      "e occurs 1 times\n",
      "\n",
      "Total 1\n",
      "Your score is 41\n"
     ]
    }
   ],
   "source": [
    "name1 = input(\"the name1:\")\n",
    "name2 = input(\"the name2:\")\n",
    "tl = \"TRUE LOVE\"\n",
    "# sentence = ''.join(tl.split())  # remove spaces\n",
    "s1, s2 = tl.split()\n",
    "cnt1 = 0\n",
    "for s in s1.lower():\n",
    "    times = (name2 + name1).lower().count(s)\n",
    "    cnt1 += times\n",
    "    print(f\"{s} occurs {times} times\\n\")\n",
    "print(f\"Total {cnt1}\")\n",
    "cnt2 = 0\n",
    "for s in s2.lower():\n",
    "    times = (name2 + name1).lower().count(s)\n",
    "    cnt2 += times\n",
    "    print(f\"{s} occurs {times} times\\n\")\n",
    "print(f\"Total {cnt2}\")\n",
    "\n",
    "score = str(cnt1) + str(cnt2)\n",
    "print(f\"Your score is {score}\")"
   ],
   "metadata": {
    "collapsed": false
   }
  },
  {
   "cell_type": "markdown",
   "source": [
    "ascii - art\n",
    "\n",
    "triple '''\n"
   ],
   "metadata": {
    "collapsed": false
   }
  }
 ],
 "metadata": {
  "kernelspec": {
   "display_name": "Python 3",
   "language": "python",
   "name": "python3"
  },
  "language_info": {
   "codemirror_mode": {
    "name": "ipython",
    "version": 2
   },
   "file_extension": ".py",
   "mimetype": "text/x-python",
   "name": "python",
   "nbconvert_exporter": "python",
   "pygments_lexer": "ipython2",
   "version": "2.7.6"
  }
 },
 "nbformat": 4,
 "nbformat_minor": 0
}
